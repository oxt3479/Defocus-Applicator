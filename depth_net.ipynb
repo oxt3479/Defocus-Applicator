{
 "cells": [
  {
   "cell_type": "code",
   "execution_count": 1,
   "metadata": {},
   "outputs": [],
   "source": [
    "import torch\n",
    "import torch.nn as nn\n",
    "import torch.nn.functional as F\n"
   ]
  },
  {
   "cell_type": "code",
   "execution_count": 35,
   "metadata": {},
   "outputs": [
    {
     "name": "stdout",
     "output_type": "stream",
     "text": [
      "depth_net(\n",
      "  (cv1): Conv2d(2, 2, kernel_size=(5, 5), stride=(1, 1))\n",
      "  (cv2): Conv2d(2, 2, kernel_size=(5, 5), stride=(2, 2))\n",
      "  (cv3): Conv2d(2, 1, kernel_size=(5, 5), stride=(3, 3))\n",
      "  (cv4): Conv2d(1, 1, kernel_size=(5, 5), stride=(5, 5))\n",
      "  (cv5): Conv2d(1, 1, kernel_size=(5, 5), stride=(1, 1), padding=(2, 2))\n",
      "  (cv3D1): Conv3d(1, 2, kernel_size=(2, 2, 2), stride=(1, 1, 1))\n",
      ")\n"
     ]
    }
   ],
   "source": [
    "class depth_net(nn.Module):\n",
    "    def __init__(self):\n",
    "        super().__init__()\n",
    "        self.cv1 = nn.Conv2d(2,2,5,stride=1)\n",
    "        self.cv2 = nn.Conv2d(2,2,5,stride=2)\n",
    "        self.cv3 = nn.Conv2d(2,1,5,stride=3)\n",
    "        self.cv4 = nn.Conv2d(1,1,5,stride=5)\n",
    "        self.cv5 = nn.Conv2d(1,1,5,stride=1,padding=2)\n",
    "        self.cv3D1 = nn.Conv3d(1,2,2,stride=1)\n",
    "        \n",
    "    def forward(self, x): \n",
    "        x = F.relu(self.cv1(x))\n",
    "        x = F.relu(self.cv2(x))\n",
    "        x = F.relu(self.cv3(x))\n",
    "        x = F.relu(self.cv4(x))\n",
    "        x2 = F.relu(self.cv5(x))\n",
    "        x = torch.cat((x,x2),1)\n",
    "        x = torch.reshape(x,(1,1,2,63,35))\n",
    "        x = self.cv3D1(x)\n",
    "        return F.log_softmax(x,dim=1) \n",
    "        \n",
    "net = depth_net()\n",
    "print(net)"
   ]
  },
  {
   "cell_type": "code",
   "execution_count": 36,
   "metadata": {},
   "outputs": [
    {
     "data": {
      "text/plain": [
       "tensor([[[[[-0.7917, -0.7917, -0.7917,  ..., -0.7917, -0.7917, -0.7917],\n",
       "           [-0.7917, -0.7917, -0.7917,  ..., -0.7917, -0.7917, -0.7917],\n",
       "           [-0.7917, -0.7917, -0.7917,  ..., -0.7917, -0.7917, -0.7917],\n",
       "           ...,\n",
       "           [-0.7917, -0.7917, -0.7917,  ..., -0.7917, -0.7917, -0.7917],\n",
       "           [-0.7917, -0.7917, -0.7917,  ..., -0.7917, -0.7917, -0.7917],\n",
       "           [-0.7917, -0.7917, -0.7917,  ..., -0.7917, -0.7917, -0.7917]]],\n",
       "\n",
       "\n",
       "         [[[-0.6035, -0.6035, -0.6035,  ..., -0.6035, -0.6035, -0.6035],\n",
       "           [-0.6035, -0.6035, -0.6035,  ..., -0.6035, -0.6035, -0.6035],\n",
       "           [-0.6035, -0.6035, -0.6035,  ..., -0.6035, -0.6035, -0.6035],\n",
       "           ...,\n",
       "           [-0.6035, -0.6035, -0.6035,  ..., -0.6035, -0.6035, -0.6035],\n",
       "           [-0.6035, -0.6035, -0.6035,  ..., -0.6035, -0.6035, -0.6035],\n",
       "           [-0.6035, -0.6035, -0.6035,  ..., -0.6035, -0.6035, -0.6035]]]]],\n",
       "       grad_fn=<LogSoftmaxBackward>)"
      ]
     },
     "execution_count": 36,
     "metadata": {},
     "output_type": "execute_result"
    }
   ],
   "source": [
    "net.forward(torch.randn(1,2,1920,1080))"
   ]
  },
  {
   "cell_type": "code",
   "execution_count": null,
   "metadata": {},
   "outputs": [],
   "source": []
  }
 ],
 "metadata": {
  "kernelspec": {
   "display_name": "Python 3",
   "language": "python3",
   "name": "python3"
  },
  "language_info": {
   "codemirror_mode": {
    "name": "ipython",
    "version": 3
   },
   "file_extension": ".py",
   "mimetype": "text/x-python",
   "name": "python",
   "nbconvert_exporter": "python",
   "pygments_lexer": "ipython3",
   "version": "3.6.8"
  }
 },
 "nbformat": 4,
 "nbformat_minor": 2
}
